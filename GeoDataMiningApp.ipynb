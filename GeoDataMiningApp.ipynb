{
 "cells": [
  {
   "cell_type": "code",
   "execution_count": null,
   "id": "a212a498",
   "metadata": {},
   "outputs": [],
   "source": [
    "import requests\n",
    "import requests_cache\n",
    "from requests_cache import CachedSession\n",
    "from datetime import timedelta\n",
    "import json\n",
    "import time"
   ]
  },
  {
   "cell_type": "code",
   "execution_count": null,
   "id": "ffc9f4b7",
   "metadata": {},
   "outputs": [],
   "source": [
    "import osmnx as ox\n",
    "import osm2geojson\n",
    "from shapely.geometry import shape"
   ]
  },
  {
   "cell_type": "code",
   "execution_count": null,
   "id": "8a6afcb6",
   "metadata": {},
   "outputs": [],
   "source": [
    "import ipywidgets as widgets\n",
    "\n",
    "from IPython.display import clear_output\n",
    "from ipyleaflet import SearchControl, FullScreenControl, MeasureControl, ScaleControl, LayersControl, WidgetControl, LegendControl\n",
    "from ipyleaflet import Map, GeoJSON, MarkerCluster, Marker, AwesomeIcon, LayerGroup, link, basemaps"
   ]
  },
  {
   "cell_type": "code",
   "execution_count": null,
   "id": "9835c19c",
   "metadata": {},
   "outputs": [],
   "source": [
    "query_dict = {}\n",
    "query_dict['Toll Roads']= ' \"toll\"=\"yes\" '\n",
    "query_dict['EV Stations']= ' \"amenity\"=\"charging_station\" '\n",
    "query_dict['Gas Stations']= ' \"amenity\"=\"fuel\" '\n",
    "query_dict['Rail']= ' \"railway\"=\"rail\" '\n",
    "query_dict['Heliostat'] = ' \"power\":\"heliostat\" '\n",
    "query_dict['Power Plant'] = ' \"power\":\"plant\" '\n",
    "query_dict['Power Line'] = ' \"power\":\"line\" '\n",
    "query_dict['Power Cable'] = ' \"power\":\"cable\" '\n",
    "query_dict['Power Substation'] = ' \"power\":\"substation\" '\n",
    "query_dict['Power Substation Minor'] = ' \"substation\":\"minor_distribution\" '\n",
    "query_dict['Data Center'] = ' \"telecom\":\"data_center\" '\n",
    "query_dict['Fuel Service'] = ' \"highway\":\"service\" '\n",
    "query_dict['Nursing Home'] = ' \"amenity\":\"nursing_home\" '\n",
    "query_dict['Recycling'] = ' \"amenity\":\"recycling\" '"
   ]
  },
  {
   "cell_type": "code",
   "execution_count": null,
   "id": "609ae10f",
   "metadata": {},
   "outputs": [],
   "source": [
    "iconGas = AwesomeIcon(\n",
    "    name='gas-pump',\n",
    "    #marker_color='gray',\n",
    "    #icon_color='white',\n",
    "    spin=False\n",
    ")\n",
    "\n",
    "iconPlug = AwesomeIcon(\n",
    "    name='plug',\n",
    "    marker_color='green',\n",
    "    icon_color='white',\n",
    "    spin=False\n",
    ")\n",
    "\n",
    "iconCharging = AwesomeIcon(\n",
    "    name='charging-station',\n",
    "    #marker_color='green',\n",
    "    #icon_color='white',\n",
    "    spin=False\n",
    ")\n",
    "\n",
    "iconSolar = AwesomeIcon(\n",
    "    name='solar-panel',\n",
    "    marker_color='green',\n",
    "    icon_color='white',\n",
    "    spin=False\n",
    ")\n",
    "\n",
    "iconPowerPlant = AwesomeIcon(\n",
    "    name='industry',\n",
    "    marker_color='gray',\n",
    "    icon_color='white',\n",
    "    spin=False\n",
    ")\n"
   ]
  },
  {
   "cell_type": "code",
   "execution_count": null,
   "id": "d95db091",
   "metadata": {},
   "outputs": [],
   "source": [
    "def query_overpass_roads(session, boundary, search_terms):\n",
    "    \"\"\"Timeout set to 300 seconds (5 mins). Default timeout is 180.\n",
    "    Max size is 1 GB: [maxsize:1073741824]\"\"\"\n",
    "\n",
    "    overpass_url = \"http://overpass-api.de/api/interpreter\"\n",
    "    overpass_query = f\"\"\"\n",
    "    [out:json][timeout:300];\n",
    "    (\n",
    "      node[\"highway\"][{search_terms}]{boundary};\n",
    "      way[\"highway\"][{search_terms}]{boundary};\n",
    "      relation[\"highway\"][{search_terms}]{boundary};\n",
    "    );\n",
    "    out body;\n",
    "    >;\n",
    "    out skel qt;\n",
    "    \"\"\"\n",
    "    \n",
    "    try:\n",
    "        time.sleep( 3 )\n",
    "        response = session.get(overpass_url, params = {'data': overpass_query} )\n",
    "\n",
    "        #response = requests.get(overpass_url, \n",
    "        #                    params={'data': overpass_query})\n",
    "\n",
    "        response.raise_for_status()\n",
    "        # Code here will only run if the request is successful\n",
    "    except requests.exceptions.HTTPError as errh:\n",
    "        print(errh)\n",
    "    except requests.exceptions.ConnectionError as errc:\n",
    "        print(errc)\n",
    "    except requests.exceptions.Timeout as errt:\n",
    "        print(errt)\n",
    "    except requests.exceptions.RequestException as err:\n",
    "        print(err)\n",
    "\n",
    "    return response"
   ]
  },
  {
   "cell_type": "code",
   "execution_count": null,
   "id": "602ea686",
   "metadata": {},
   "outputs": [],
   "source": [
    "def query_overpass(session, boundary, search_terms):\n",
    "    \"\"\"Timeout set to 300 seconds (5 mins). Default timeout is 180.\n",
    "    Max size is 1 GB: [maxsize:1073741824]\"\"\"\n",
    "\n",
    "    overpass_url = \"http://overpass-api.de/api/interpreter\"\n",
    "    overpass_query = f\"\"\"\n",
    "    [out:json][timeout:300];\n",
    "    (\n",
    "      node[{search_terms}]{boundary};\n",
    "      way[{search_terms}]{boundary};\n",
    "      relation[{search_terms}]{boundary};\n",
    "    );\n",
    "    out body;\n",
    "    >;\n",
    "    out skel qt;\n",
    "    \"\"\"\n",
    "    \n",
    "    try:\n",
    "        time.sleep( 3 )\n",
    "        response = session.get(overpass_url, params = {'data': overpass_query} )\n",
    "\n",
    "        #response = requests.get(overpass_url, \n",
    "        #                    params={'data': overpass_query})\n",
    "\n",
    "        response.raise_for_status()\n",
    "        # Code here will only run if the request is successful\n",
    "    except requests.exceptions.HTTPError as errh:\n",
    "        print(errh)\n",
    "    except requests.exceptions.ConnectionError as errc:\n",
    "        print(errc)\n",
    "    except requests.exceptions.Timeout as errt:\n",
    "        print(errt)\n",
    "    except requests.exceptions.RequestException as err:\n",
    "        print(err)\n",
    "\n",
    "    return response"
   ]
  },
  {
   "cell_type": "code",
   "execution_count": null,
   "id": "8bc395bf",
   "metadata": {},
   "outputs": [],
   "source": []
  },
  {
   "cell_type": "code",
   "execution_count": null,
   "id": "413d2e76",
   "metadata": {},
   "outputs": [],
   "source": [
    "def get_geojson_widget(geojson, name, color='darkblue'):\n",
    "    \n",
    "    for feature in geojson['features']:\n",
    "        feature['properties']['style'] = {\n",
    "            'color': color,\n",
    "            'weight': 1,\n",
    "            'fillColor': 'lightblue',\n",
    "            'fillOpacity': 0.5\n",
    "        }\n",
    "    \n",
    "    leaflet_geojson = GeoJSON(\n",
    "        name = name,\n",
    "        data=geojson,\n",
    "        # below is tiles style\n",
    "        style={ 'color':color, 'opacity': 1, 'weight': 1, 'dashArray': '9','fillOpacity': 0.1},\n",
    "    )\n",
    "    \n",
    "    return leaflet_geojson"
   ]
  },
  {
   "cell_type": "code",
   "execution_count": null,
   "id": "1cd15db5",
   "metadata": {},
   "outputs": [],
   "source": [
    "def add_marker_cluster(geojson3, icon=None, name='Marker Cluster'):\n",
    "    markers = []\n",
    "    for i in range(len(geojson3['features'])):\n",
    "        pp = shape( geojson3['features'][i]['geometry']).centroid\n",
    "        location = ([pp.y, pp.x])\n",
    "        marker = Marker(location=location, icon=icon)\n",
    "        markers.append(marker)\n",
    "\n",
    "    cluster = MarkerCluster(name = name, markers = markers, max_cluster_radius=100) \n",
    "    # disable_clustering_at_zoom=3, \n",
    "    # default radius 80 pixels, Decreasing will make more, smaller clusters.\n",
    "    return cluster"
   ]
  },
  {
   "cell_type": "code",
   "execution_count": null,
   "id": "d768d240",
   "metadata": {},
   "outputs": [],
   "source": [
    "def get_map_boundary(m):\n",
    "    (i1, i2), (j1, j2) = m.bounds\n",
    "    boundary = (i1, i2, j1, j2)\n",
    "    return boundary"
   ]
  },
  {
   "cell_type": "code",
   "execution_count": null,
   "id": "84402e1e",
   "metadata": {},
   "outputs": [],
   "source": [
    "align_kw = dict(\n",
    "    _css = (('.widget-label', 'min-width', '20ex'),),\n",
    "    margin = '0px 0px 5px 12px'\n",
    ")\n",
    "\n",
    "button_toll = widgets.Button(description=\"Query Toll Roads\", **align_kw)\n",
    "button_rail = widgets.Button(description=\"Query Rail Roads\", **align_kw)\n",
    "button_ev = widgets.Button(description=\"Query EV Stations\", **align_kw)\n",
    "button_gas = widgets.Button(description=\"Query Gas Stations\", **align_kw)"
   ]
  },
  {
   "cell_type": "code",
   "execution_count": null,
   "id": "cee33de0",
   "metadata": {},
   "outputs": [],
   "source": [
    "session = CachedSession(allowable_codes=[200], old_data_on_error=True, backend='sqlite', expire_after=timedelta(days=30))\n",
    "session.mount('http://overpass-api.de', requests.adapters.HTTPAdapter(max_retries = 2))"
   ]
  },
  {
   "cell_type": "code",
   "execution_count": null,
   "id": "7fb2cb71",
   "metadata": {},
   "outputs": [],
   "source": [
    "m = Map(center=(43.651070, -79.347015), zoom=10) #, basemap=basemaps.Esri.WorldStreetMap"
   ]
  },
  {
   "cell_type": "code",
   "execution_count": null,
   "id": "e9bb61b9",
   "metadata": {},
   "outputs": [],
   "source": [
    "#m.basemap = basemaps.Stamen.Terrain\n",
    "#m.basemap = basemaps.Esri.WorldStreetMap\n",
    "#m.basemap = basemaps.Esri.DeLorme\n",
    "#Important Note: This item is in mature support as of September 2020 and is no longer updated. "
   ]
  },
  {
   "cell_type": "code",
   "execution_count": null,
   "id": "91d8baa6",
   "metadata": {},
   "outputs": [],
   "source": [
    "search = SearchControl(position=\"topleft\", \n",
    "                       url='https://nominatim.openstreetmap.org/search?format=json&q={s}', \n",
    "                       zoom=10,\n",
    "                       property_name='display_name',\n",
    "                       marker=None\n",
    "                      )\n",
    "m.add_control(search)"
   ]
  },
  {
   "cell_type": "code",
   "execution_count": null,
   "id": "b30f58bf",
   "metadata": {},
   "outputs": [],
   "source": [
    "fullscreen = FullScreenControl()\n",
    "m.add_control(fullscreen)"
   ]
  },
  {
   "cell_type": "code",
   "execution_count": null,
   "id": "8800355d",
   "metadata": {},
   "outputs": [],
   "source": [
    "scale = ScaleControl(position = 'bottomleft', imperial=False)\n",
    "m.add_control(scale)"
   ]
  },
  {
   "cell_type": "code",
   "execution_count": null,
   "id": "2a26c023",
   "metadata": {},
   "outputs": [],
   "source": [
    "measure = MeasureControl(position='bottomleft', active_color='orange', primary_length_unit = 'kilometers')\n",
    "m.add_control(measure)"
   ]
  },
  {
   "cell_type": "code",
   "execution_count": null,
   "id": "841c0c61",
   "metadata": {},
   "outputs": [],
   "source": []
  },
  {
   "cell_type": "code",
   "execution_count": null,
   "id": "cb0d7f89",
   "metadata": {},
   "outputs": [],
   "source": [
    "minimap = Map(\n",
    "    zoom_control=False, attribution_control=False, \n",
    "    zoom=3, center=m.center, basemap=basemaps.Stamen.Terrain\n",
    ")\n",
    "minimap.layout.width = '150px'\n",
    "minimap.layout.height = '150px'\n",
    "link((minimap, 'center'), (m, 'center'))\n",
    "minimap_control = WidgetControl(widget=minimap, position='bottomright')\n",
    "m.add_control(minimap_control)"
   ]
  },
  {
   "cell_type": "code",
   "execution_count": null,
   "id": "44c6f2cc",
   "metadata": {},
   "outputs": [],
   "source": [
    "def get_toll_roads(b):\n",
    "    global session\n",
    "    global m\n",
    "    case = 'Toll Roads'\n",
    "    boundary = get_map_boundary(m)\n",
    "    response = query_overpass_roads(session, boundary, query_dict[case] )\n",
    "    geojson = osm2geojson.json2geojson( response.json() )\n",
    "    toll_roads = get_geojson_widget(geojson, case, color=\"navy\")\n",
    "    m.add_layer( toll_roads )"
   ]
  },
  {
   "cell_type": "code",
   "execution_count": null,
   "id": "e0bc39b6",
   "metadata": {},
   "outputs": [],
   "source": [
    "button_toll.on_click( get_toll_roads )\n"
   ]
  },
  {
   "cell_type": "code",
   "execution_count": null,
   "id": "acc48ee2",
   "metadata": {},
   "outputs": [],
   "source": [
    "def get_ev_charg_stations(b):\n",
    "    global session\n",
    "    global m\n",
    "    case = 'EV Stations'\n",
    "    boundary = get_map_boundary(m)\n",
    "    response2 = query_overpass(session, boundary, query_dict[case] )\n",
    "    geojson2 = osm2geojson.json2geojson( response2.json() )\n",
    "    ev_charg_layer = add_marker_cluster(geojson2, icon=iconCharging, name=case)\n",
    "    m.add_layer(ev_charg_layer)"
   ]
  },
  {
   "cell_type": "code",
   "execution_count": null,
   "id": "6bcc787a",
   "metadata": {},
   "outputs": [],
   "source": [
    "button_ev.on_click( get_ev_charg_stations )\n"
   ]
  },
  {
   "cell_type": "code",
   "execution_count": null,
   "id": "1f1167bf",
   "metadata": {},
   "outputs": [],
   "source": [
    "def get_gas_stations(b):\n",
    "    global session\n",
    "    global m\n",
    "    case = 'Gas Stations'\n",
    "    boundary = get_map_boundary(m)\n",
    "    response3 = query_overpass(session, boundary, query_dict[case] )\n",
    "    geojson3 = osm2geojson.json2geojson( response3.json() )\n",
    "    fuel_layer = add_marker_cluster(geojson3, icon=iconGas, name=case)\n",
    "    m.add_layer(fuel_layer)"
   ]
  },
  {
   "cell_type": "code",
   "execution_count": null,
   "id": "d3b33ce3",
   "metadata": {},
   "outputs": [],
   "source": [
    "button_gas.on_click( get_gas_stations )\n"
   ]
  },
  {
   "cell_type": "code",
   "execution_count": null,
   "id": "ca7a1f8d",
   "metadata": {},
   "outputs": [],
   "source": [
    "def get_rail_roads(b):\n",
    "    global session\n",
    "    global m\n",
    "    case = 'Rail'\n",
    "    boundary = get_map_boundary(m)\n",
    "    response4 = query_overpass(session, boundary, query_dict[case] )\n",
    "    geojson4 = osm2geojson.json2geojson( response4.json() )\n",
    "    rail = get_geojson_widget(geojson4, case, color=\"steelblue\")\n",
    "    m.add_layer( rail )"
   ]
  },
  {
   "cell_type": "code",
   "execution_count": null,
   "id": "48ac2623",
   "metadata": {},
   "outputs": [],
   "source": [
    "button_rail.on_click( get_rail_roads )\n"
   ]
  },
  {
   "cell_type": "code",
   "execution_count": null,
   "id": "c2ab21e1",
   "metadata": {},
   "outputs": [],
   "source": [
    "instructions = widgets.HTML(\n",
    "    value=\"\"\"\n",
    "    <p>Search a city and plot infrastructure assets: a query for one city takes 3-10 seconds.<br> \n",
    "    <hr>\n",
    "    \"\"\"\n",
    ")\n"
   ]
  },
  {
   "cell_type": "code",
   "execution_count": null,
   "id": "39ac37eb",
   "metadata": {},
   "outputs": [],
   "source": [
    "footnote = widgets.HTML(value=\n",
    "                       \"\"\"\n",
    "                        <h1>Big Spatial Data Analytics</h1>\n",
    "                        \n",
    "                        <p>This web app enables easy access to OpenStreetMap, which contains over 5 billion locations worldwide, incl. \n",
    "                        <b>transport</b> infrastructure (roads, fuel stations),\n",
    "                        <b>power</b> infrastructure (power plants, power lines),\n",
    "                        <b>data</b> infrastructure (data centers),\n",
    "                        and infrastructure <b>plans</b> (landuse classification)</p>\n",
    "                        \n",
    "                        <p>A query for a large city takes 10-30 seconds</p>\n",
    "                        \"\"\"\n",
    "                      )"
   ]
  },
  {
   "cell_type": "markdown",
   "id": "1cd560c8",
   "metadata": {},
   "source": [
    "# Page"
   ]
  },
  {
   "cell_type": "markdown",
   "id": "f36aaab9",
   "metadata": {},
   "source": [
    "## Section"
   ]
  },
  {
   "cell_type": "markdown",
   "id": "7b7e93c2",
   "metadata": {},
   "source": [
    "### Look up a city and discover infrastructure assets"
   ]
  },
  {
   "cell_type": "code",
   "execution_count": null,
   "id": "76e843e4",
   "metadata": {
    "tags": [
     "body"
    ]
   },
   "outputs": [],
   "source": [
    "widgets.VBox([m])"
   ]
  },
  {
   "cell_type": "markdown",
   "id": "d678eb7c",
   "metadata": {
    "tags": [
     "sidebar"
    ]
   },
   "source": [
    "# Sidebar"
   ]
  },
  {
   "cell_type": "markdown",
   "id": "6d003f10",
   "metadata": {},
   "source": [
    "### "
   ]
  },
  {
   "cell_type": "code",
   "execution_count": null,
   "id": "e9393065",
   "metadata": {
    "tags": [
     "body"
    ]
   },
   "outputs": [],
   "source": [
    "footnote"
   ]
  },
  {
   "cell_type": "code",
   "execution_count": null,
   "id": "2d5e2e2d",
   "metadata": {},
   "outputs": [],
   "source": [
    "widget_control_1 = WidgetControl(widget=button_toll, position='topright')\n",
    "m.add_control(widget_control_1)\n",
    "\n",
    "widget_control_2 = WidgetControl(widget=button_gas, position='topright')\n",
    "m.add_control(widget_control_2)\n",
    "\n",
    "widget_control_3 = WidgetControl(widget=button_ev, position='topright')\n",
    "m.add_control(widget_control_3)\n",
    "\n",
    "widget_control_4 = WidgetControl(widget=button_rail, position='topright')\n",
    "m.add_control(widget_control_4)"
   ]
  },
  {
   "cell_type": "code",
   "execution_count": null,
   "id": "6d13acae",
   "metadata": {},
   "outputs": [],
   "source": []
  },
  {
   "cell_type": "code",
   "execution_count": null,
   "id": "64f6bfa9",
   "metadata": {},
   "outputs": [],
   "source": [
    "legend = LegendControl({\"Toll Roads\":\"navy\", \"Rail Roads\":\"steelblue\"}, position=\"bottomright\")\n",
    "m.add_control(legend)"
   ]
  },
  {
   "cell_type": "code",
   "execution_count": null,
   "id": "656088ff",
   "metadata": {},
   "outputs": [],
   "source": [
    "control = LayersControl(position='topright', collapsed=False)\n",
    "m.add_control(control)"
   ]
  }
 ],
 "metadata": {
  "celltoolbar": "Tags",
  "kernelspec": {
   "display_name": "transport",
   "language": "python",
   "name": "transport"
  },
  "language_info": {
   "codemirror_mode": {
    "name": "ipython",
    "version": 3
   },
   "file_extension": ".py",
   "mimetype": "text/x-python",
   "name": "python",
   "nbconvert_exporter": "python",
   "pygments_lexer": "ipython3",
   "version": "3.8.10"
  }
 },
 "nbformat": 4,
 "nbformat_minor": 5
}
